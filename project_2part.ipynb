{
 "cells": [
  {
   "cell_type": "code",
   "execution_count": 6,
   "metadata": {},
   "outputs": [
    {
     "name": "stdout",
     "output_type": "stream",
     "text": [
      "Requirement already satisfied: selenium in c:\\users\\user\\appdata\\local\\programs\\python\\python310\\lib\\site-packages (4.29.0)\n",
      "Requirement already satisfied: certifi>=2021.10.8 in c:\\users\\user\\appdata\\local\\programs\\python\\python310\\lib\\site-packages (from selenium) (2025.1.31)\n",
      "Requirement already satisfied: trio~=0.17 in c:\\users\\user\\appdata\\local\\programs\\python\\python310\\lib\\site-packages (from selenium) (0.29.0)\n",
      "Requirement already satisfied: urllib3[socks]<3,>=1.26 in c:\\users\\user\\appdata\\local\\programs\\python\\python310\\lib\\site-packages (from selenium) (2.3.0)\n",
      "Requirement already satisfied: trio-websocket~=0.9 in c:\\users\\user\\appdata\\local\\programs\\python\\python310\\lib\\site-packages (from selenium) (0.12.2)\n",
      "Requirement already satisfied: websocket-client~=1.8 in c:\\users\\user\\appdata\\local\\programs\\python\\python310\\lib\\site-packages (from selenium) (1.8.0)\n",
      "Requirement already satisfied: typing_extensions~=4.9 in c:\\users\\user\\appdata\\roaming\\python\\python310\\site-packages (from selenium) (4.12.2)\n",
      "Requirement already satisfied: attrs>=23.2.0 in c:\\users\\user\\appdata\\local\\programs\\python\\python310\\lib\\site-packages (from trio~=0.17->selenium) (25.3.0)\n",
      "Requirement already satisfied: outcome in c:\\users\\user\\appdata\\local\\programs\\python\\python310\\lib\\site-packages (from trio~=0.17->selenium) (1.3.0.post0)\n",
      "Requirement already satisfied: cffi>=1.14 in c:\\users\\user\\appdata\\local\\programs\\python\\python310\\lib\\site-packages (from trio~=0.17->selenium) (1.17.1)\n",
      "Requirement already satisfied: exceptiongroup in c:\\users\\user\\appdata\\roaming\\python\\python310\\site-packages (from trio~=0.17->selenium) (1.2.2)\n",
      "Requirement already satisfied: sniffio>=1.3.0 in c:\\users\\user\\appdata\\local\\programs\\python\\python310\\lib\\site-packages (from trio~=0.17->selenium) (1.3.1)\n",
      "Requirement already satisfied: idna in c:\\users\\user\\appdata\\local\\programs\\python\\python310\\lib\\site-packages (from trio~=0.17->selenium) (3.10)\n",
      "Requirement already satisfied: sortedcontainers in c:\\users\\user\\appdata\\local\\programs\\python\\python310\\lib\\site-packages (from trio~=0.17->selenium) (2.4.0)\n",
      "Requirement already satisfied: wsproto>=0.14 in c:\\users\\user\\appdata\\local\\programs\\python\\python310\\lib\\site-packages (from trio-websocket~=0.9->selenium) (1.2.0)\n",
      "Requirement already satisfied: pysocks!=1.5.7,<2.0,>=1.5.6 in c:\\users\\user\\appdata\\local\\programs\\python\\python310\\lib\\site-packages (from urllib3[socks]<3,>=1.26->selenium) (1.7.1)\n",
      "Requirement already satisfied: pycparser in c:\\users\\user\\appdata\\local\\programs\\python\\python310\\lib\\site-packages (from cffi>=1.14->trio~=0.17->selenium) (2.22)\n",
      "Requirement already satisfied: h11<1,>=0.9.0 in c:\\users\\user\\appdata\\local\\programs\\python\\python310\\lib\\site-packages (from wsproto>=0.14->trio-websocket~=0.9->selenium) (0.14.0)\n",
      "Note: you may need to restart the kernel to use updated packages.\n"
     ]
    },
    {
     "name": "stderr",
     "output_type": "stream",
     "text": [
      "\n",
      "[notice] A new release of pip available: 22.2.1 -> 25.0.1\n",
      "[notice] To update, run: python.exe -m pip install --upgrade pip\n"
     ]
    }
   ],
   "source": [
    "pip install selenium"
   ]
  },
  {
   "cell_type": "markdown",
   "metadata": {},
   "source": [
    "я хочу сделать функцию, которая будет принимать на вход 2 пары коодинат : одна - координата страны, которые есть в моей первой части кода, вторая пара - координаты склада из кода Полины (мб пары наоборот)\n",
    "\n",
    "ПЛАН\n",
    "- ввести в поиск одни координаты\n",
    "- нажать на маршрут\n",
    "- ввести вторые координаты\n",
    "- получить расстояние между ними\n"
   ]
  },
  {
   "cell_type": "code",
   "execution_count": 8,
   "metadata": {},
   "outputs": [],
   "source": [
    "from selenium import webdriver\n",
    "from selenium.webdriver.common.by import By\n",
    "from selenium.webdriver.support.ui import WebDriverWait\n",
    "from selenium.webdriver.support import expected_conditions as EC\n",
    "from selenium.webdriver.common.keys import Keys\n",
    "import time"
   ]
  },
  {
   "cell_type": "code",
   "execution_count": 10,
   "metadata": {},
   "outputs": [],
   "source": [
    "def get_distance(lat1, lon1, lat2, lon2):\n",
    "    driver = webdriver.Chrome()\n",
    "    driver.get(\"https://yandex.ru/maps\")\n",
    "    #жду до условия\n",
    "    try:\n",
    "        my_search = WebDriverWait(driver, 10).until(EC.presence_of_element_located((By.CLASS_NAME, \"input__control\"))) #чекнуть, что класс, там еще bold, оно не оно\n",
    "        my_search.send_keys(str(lat1), ' ', str(lon1))\n",
    "        my_search.send_keys(Keys.RETURN) #имитирую нажание enter с клавиатуры\n",
    "    \n",
    "        #ввели координаты, теперь нужно, чтобы появилось окошко для вторых координат, хочу нажать на маршрутную кнопку\n",
    "        my_path = WebDriverWait(driver, 10).until(EC.presence_of_element_located((By.CLASS_NAME, \"action-button-view._type_route\")))\n",
    "        my_path.click()\n",
    "        #теперь я оказалась в месте, где заполнено \"куда\" и хочу попасть в \"откуда\"\n",
    "        \n",
    "        #так же как заполняла search заполняю \"откуда\"\n",
    "        time.sleep(2)\n",
    "        froms= WebDriverWait(driver, 20).until(EC.presence_of_all_elements_located((By.CLASS_NAME, \"input__control\")))\n",
    "        time.sleep(2)\n",
    "\n",
    "        my_from = froms[1]\n",
    "        my_from.send_keys(str(lat2), ' ', str(lon2))\n",
    "        my_from.send_keys(Keys.RETURN) \n",
    "        length = WebDriverWait(driver, 10).until(EC.presence_of_element_located((By.CLASS_NAME, \"auto-route-snippet-view__route-subtitle\"))).text\n",
    "        return length\n",
    "    except:\n",
    "        print('ошибка в момент обращения')\n",
    "    finally:\n",
    "        driver.quit()\n",
    "\n",
    "#lat1, lon1 - координаты точки назначения\n",
    "#lat2, lon2 - координаты точки отправления\n"
   ]
  },
  {
   "cell_type": "code",
   "execution_count": null,
   "metadata": {},
   "outputs": [],
   "source": [
    "pip install pandas"
   ]
  },
  {
   "cell_type": "code",
   "execution_count": 1,
   "metadata": {},
   "outputs": [],
   "source": [
    "import pandas as pd"
   ]
  },
  {
   "cell_type": "code",
   "execution_count": null,
   "metadata": {},
   "outputs": [
    {
     "name": "stdout",
     "output_type": "stream",
     "text": [
      "      Country name  latitude  longitude\n",
      "0       Kyrgyzstan   42.8670    74.6000\n",
      "1          Belarus   53.9170    27.5500\n",
      "2       Tajikistan   38.5500    68.8000\n",
      "3          Armenia   40.1830    44.5170\n",
      "4         Bulgaria   42.6975    23.3225\n",
      "5       Azerbaijan   40.3830    49.8330\n",
      "6          Albania   41.3170    19.8170\n",
      "7  North Macedonia   42.0000    21.4330\n",
      "8          Georgia   41.7170    44.7830\n"
     ]
    }
   ],
   "source": [
    "#я скачала итоговый фрейм из коллаба, там лежат координаты стран\n",
    "path = \"C:/Users/User/Downloads/final_df.csv\"\n",
    "df = pd.read_csv(path)\n",
    "#выкидываю, все, что не нужно\n",
    "df = df[['Country name', 'latitude', 'longitude']]\n",
    "print(df)"
   ]
  },
  {
   "cell_type": "code",
   "execution_count": null,
   "metadata": {},
   "outputs": [
    {
     "name": "stdout",
     "output_type": "stream",
     "text": [
      "3 000 км\n",
      "1 550 км\n",
      "3 100 км\n",
      "2 310 км\n",
      "3 400 км\n",
      "ошибка в момент обращения\n",
      "None\n",
      "3 600 км\n",
      "3 500 км\n",
      "2 040 км\n",
      "      Country name  latitude  longitude Расстояние от завода до страны\n",
      "0       Kyrgyzstan   42.8670    74.6000                       3 000 км\n",
      "1          Belarus   53.9170    27.5500                       1 550 км\n",
      "2       Tajikistan   38.5500    68.8000                       3 100 км\n",
      "3          Armenia   40.1830    44.5170                       2 310 км\n",
      "4         Bulgaria   42.6975    23.3225                       3 400 км\n",
      "5       Azerbaijan   40.3830    49.8330                           None\n",
      "6          Albania   41.3170    19.8170                       3 600 км\n",
      "7  North Macedonia   42.0000    21.4330                       3 500 км\n",
      "8          Georgia   41.7170    44.7830                       2 040 км\n"
     ]
    }
   ],
   "source": [
    "#ищу расстояния между складом в казани и каждой из стран\n",
    "df['Расстояние от склада до страны'] = None\n",
    "lat_kaz = float(55.79083)\n",
    "lon_kaz = float(49.11444) #координаты склада\n",
    "for index, row in df.iterrows():\n",
    "    lat_country = row['latitude']\n",
    "    lon_country = row['longitude']\n",
    "    factory_country = get_distance(lat_country, lon_country, lat_kaz, lon_kaz)\n",
    "    print(factory_country) #это не обязательно, но все долго грузится и я проверяю, что нигде ничего не умерло\n",
    "    df.at[index, 'Расстояние от склада до страны'] = factory_country\n",
    "print(df)"
   ]
  },
  {
   "cell_type": "code",
   "execution_count": null,
   "metadata": {},
   "outputs": [
    {
     "name": "stdout",
     "output_type": "stream",
     "text": [
      "  Country name  latitude  longitude Расстояние от завода до страны\n",
      "1      Belarus   53.9170    27.5500                       1 550 км\n",
      "8      Georgia   41.7170    44.7830                       2 040 км\n",
      "3      Armenia   40.1830    44.5170                       2 310 км\n",
      "0   Kyrgyzstan   42.8670    74.6000                       3 000 км\n",
      "2   Tajikistan   38.5500    68.8000                       3 100 км\n",
      "4     Bulgaria   42.6975    23.3225                       3 400 км\n"
     ]
    }
   ],
   "source": [
    "#теперь выбираю страны, в которые мы все же поставляем\n",
    "df_sorted = df.sort_values(by='Расстояние от склада до страны')\n",
    "df_top5 = df_sorted.head(6)\n",
    "print(df_top5)"
   ]
  },
  {
   "cell_type": "code",
   "execution_count": null,
   "metadata": {},
   "outputs": [
    {
     "name": "stdout",
     "output_type": "stream",
     "text": [
      "   Unnamed: 0            город   долгота    широта  растение цена\n",
      "1           0  Санкт-Петербург  30.31667  59.95000   мелисса  100\n",
      "2           1          Чусовой  57.81667  58.28333  иван-чай  250\n",
      "3           2           Тюмень  65.53333  57.15000      мята  100\n"
     ]
    }
   ],
   "source": [
    "#теперь ищу для каждого сорта растения расстояние от поля до склада, result_df - датасет, который скачала из ноутбука Полины\n",
    "path2 = \"C:/Users/User/Downloads/result_df.csv\"\n",
    "df_polina = pd.read_csv(path2)\n",
    "df_polina = df_polina.drop(0)\n",
    "print(df_polina)\n"
   ]
  },
  {
   "cell_type": "code",
   "execution_count": null,
   "metadata": {},
   "outputs": [
    {
     "name": "stdout",
     "output_type": "stream",
     "text": [
      "1 550 км\n",
      "840 км\n",
      "1 360 км\n",
      "   Unnamed: 0            город   долгота    широта  растение цена  \\\n",
      "1           0  Санкт-Петербург  30.31667  59.95000   мелисса  100   \n",
      "2           1          Чусовой  57.81667  58.28333  иван-чай  250   \n",
      "3           2           Тюмень  65.53333  57.15000      мята  100   \n",
      "\n",
      "  Расстояние от растения до завода  \n",
      "1                         1 550 км  \n",
      "2                           840 км  \n",
      "3                         1 360 км  \n"
     ]
    }
   ],
   "source": [
    "df_polina['Расстояние от растения до склада'] = None\n",
    "lat_kaz = float(55.79083)\n",
    "lon_kaz = float(49.11444) #координаты склада\n",
    "for index, row in df_polina.iterrows():\n",
    "    lat_plant = row['широта']\n",
    "    lon_plant = row['долгота']\n",
    "    factory_plant = get_distance(lat_kaz, lon_kaz, lat_plant, lon_plant)\n",
    "    print(factory_plant) \n",
    "    df_polina.at[index, 'Расстояние от растения до склада'] = factory_plant\n",
    "print(df_polina)"
   ]
  }
 ],
 "metadata": {
  "kernelspec": {
   "display_name": "Python 3",
   "language": "python",
   "name": "python3"
  },
  "language_info": {
   "codemirror_mode": {
    "name": "ipython",
    "version": 3
   },
   "file_extension": ".py",
   "mimetype": "text/x-python",
   "name": "python",
   "nbconvert_exporter": "python",
   "pygments_lexer": "ipython3",
   "version": "3.10.6"
  }
 },
 "nbformat": 4,
 "nbformat_minor": 2
}
